{
 "cells": [
  {
   "cell_type": "code",
   "execution_count": 1,
   "id": "9344d4bc",
   "metadata": {
    "_cell_guid": "b1076dfc-b9ad-4769-8c92-a6c4dae69d19",
    "_uuid": "8f2839f25d086af736a60e9eeb907d3b93b6e0e5",
    "execution": {
     "iopub.execute_input": "2022-05-22T02:56:56.493164Z",
     "iopub.status.busy": "2022-05-22T02:56:56.491992Z",
     "iopub.status.idle": "2022-05-22T02:56:56.506224Z",
     "shell.execute_reply": "2022-05-22T02:56:56.505126Z"
    },
    "papermill": {
     "duration": 0.066704,
     "end_time": "2022-05-22T02:56:56.509364",
     "exception": false,
     "start_time": "2022-05-22T02:56:56.442660",
     "status": "completed"
    },
    "tags": []
   },
   "outputs": [
    {
     "name": "stdout",
     "output_type": "stream",
     "text": [
      "/kaggle/input/titanic/train.csv\n",
      "/kaggle/input/titanic/test.csv\n",
      "/kaggle/input/titanic/gender_submission.csv\n"
     ]
    }
   ],
   "source": [
    "# This Python 3 environment comes with many helpful analytics libraries installed\n",
    "# It is defined by the kaggle/python Docker image: https://github.com/kaggle/docker-python\n",
    "# For example, here's several helpful packages to load\n",
    "\n",
    "import numpy as np # linear algebra\n",
    "import pandas as pd # data processing, CSV file I/O (e.g. pd.read_csv)\n",
    "\n",
    "# Input data files are available in the read-only \"../input/\" directory\n",
    "# For example, running this (by clicking run or pressing Shift+Enter) will list all files under the input directory\n",
    "\n",
    "import os\n",
    "for dirname, _, filenames in os.walk('/kaggle/input'):\n",
    "    for filename in filenames:\n",
    "        print(os.path.join(dirname, filename))\n",
    "\n",
    "# You can write up to 20GB to the current directory (/kaggle/working/) that gets preserved as output when you create a version using \"Save & Run All\" \n",
    "# You can also write temporary files to /kaggle/temp/, but they won't be saved outside of the current session"
   ]
  },
  {
   "cell_type": "code",
   "execution_count": 2,
   "id": "e4aae3a3",
   "metadata": {
    "execution": {
     "iopub.execute_input": "2022-05-22T02:56:56.605384Z",
     "iopub.status.busy": "2022-05-22T02:56:56.605112Z",
     "iopub.status.idle": "2022-05-22T02:56:57.816517Z",
     "shell.execute_reply": "2022-05-22T02:56:57.815546Z"
    },
    "papermill": {
     "duration": 1.260513,
     "end_time": "2022-05-22T02:56:57.819390",
     "exception": false,
     "start_time": "2022-05-22T02:56:56.558877",
     "status": "completed"
    },
    "tags": []
   },
   "outputs": [],
   "source": [
    "import matplotlib.pyplot as plt\n",
    "%matplotlib inline\n",
    "import seaborn as sns"
   ]
  },
  {
   "cell_type": "code",
   "execution_count": 3,
   "id": "421e66c9",
   "metadata": {
    "execution": {
     "iopub.execute_input": "2022-05-22T02:56:57.911249Z",
     "iopub.status.busy": "2022-05-22T02:56:57.910574Z",
     "iopub.status.idle": "2022-05-22T02:56:57.945897Z",
     "shell.execute_reply": "2022-05-22T02:56:57.945000Z"
    },
    "papermill": {
     "duration": 0.084882,
     "end_time": "2022-05-22T02:56:57.948430",
     "exception": false,
     "start_time": "2022-05-22T02:56:57.863548",
     "status": "completed"
    },
    "tags": []
   },
   "outputs": [],
   "source": [
    "train_data = pd.read_csv('../input/titanic/train.csv', index_col='PassengerId')\n",
    "test_data = pd.read_csv('../input/titanic/test.csv', index_col='PassengerId')"
   ]
  },
  {
   "cell_type": "code",
   "execution_count": 4,
   "id": "5b7dc576",
   "metadata": {
    "execution": {
     "iopub.execute_input": "2022-05-22T02:56:58.042436Z",
     "iopub.status.busy": "2022-05-22T02:56:58.042010Z",
     "iopub.status.idle": "2022-05-22T02:56:58.066562Z",
     "shell.execute_reply": "2022-05-22T02:56:58.065538Z"
    },
    "papermill": {
     "duration": 0.07333,
     "end_time": "2022-05-22T02:56:58.068791",
     "exception": false,
     "start_time": "2022-05-22T02:56:57.995461",
     "status": "completed"
    },
    "tags": []
   },
   "outputs": [
    {
     "data": {
      "text/html": [
       "<div>\n",
       "<style scoped>\n",
       "    .dataframe tbody tr th:only-of-type {\n",
       "        vertical-align: middle;\n",
       "    }\n",
       "\n",
       "    .dataframe tbody tr th {\n",
       "        vertical-align: top;\n",
       "    }\n",
       "\n",
       "    .dataframe thead th {\n",
       "        text-align: right;\n",
       "    }\n",
       "</style>\n",
       "<table border=\"1\" class=\"dataframe\">\n",
       "  <thead>\n",
       "    <tr style=\"text-align: right;\">\n",
       "      <th></th>\n",
       "      <th>Survived</th>\n",
       "      <th>Pclass</th>\n",
       "      <th>Name</th>\n",
       "      <th>Sex</th>\n",
       "      <th>Age</th>\n",
       "      <th>SibSp</th>\n",
       "      <th>Parch</th>\n",
       "      <th>Ticket</th>\n",
       "      <th>Fare</th>\n",
       "      <th>Cabin</th>\n",
       "      <th>Embarked</th>\n",
       "    </tr>\n",
       "    <tr>\n",
       "      <th>PassengerId</th>\n",
       "      <th></th>\n",
       "      <th></th>\n",
       "      <th></th>\n",
       "      <th></th>\n",
       "      <th></th>\n",
       "      <th></th>\n",
       "      <th></th>\n",
       "      <th></th>\n",
       "      <th></th>\n",
       "      <th></th>\n",
       "      <th></th>\n",
       "    </tr>\n",
       "  </thead>\n",
       "  <tbody>\n",
       "    <tr>\n",
       "      <th>1</th>\n",
       "      <td>0</td>\n",
       "      <td>3</td>\n",
       "      <td>Braund, Mr. Owen Harris</td>\n",
       "      <td>male</td>\n",
       "      <td>22.0</td>\n",
       "      <td>1</td>\n",
       "      <td>0</td>\n",
       "      <td>A/5 21171</td>\n",
       "      <td>7.2500</td>\n",
       "      <td>NaN</td>\n",
       "      <td>S</td>\n",
       "    </tr>\n",
       "    <tr>\n",
       "      <th>2</th>\n",
       "      <td>1</td>\n",
       "      <td>1</td>\n",
       "      <td>Cumings, Mrs. John Bradley (Florence Briggs Th...</td>\n",
       "      <td>female</td>\n",
       "      <td>38.0</td>\n",
       "      <td>1</td>\n",
       "      <td>0</td>\n",
       "      <td>PC 17599</td>\n",
       "      <td>71.2833</td>\n",
       "      <td>C85</td>\n",
       "      <td>C</td>\n",
       "    </tr>\n",
       "    <tr>\n",
       "      <th>3</th>\n",
       "      <td>1</td>\n",
       "      <td>3</td>\n",
       "      <td>Heikkinen, Miss. Laina</td>\n",
       "      <td>female</td>\n",
       "      <td>26.0</td>\n",
       "      <td>0</td>\n",
       "      <td>0</td>\n",
       "      <td>STON/O2. 3101282</td>\n",
       "      <td>7.9250</td>\n",
       "      <td>NaN</td>\n",
       "      <td>S</td>\n",
       "    </tr>\n",
       "    <tr>\n",
       "      <th>4</th>\n",
       "      <td>1</td>\n",
       "      <td>1</td>\n",
       "      <td>Futrelle, Mrs. Jacques Heath (Lily May Peel)</td>\n",
       "      <td>female</td>\n",
       "      <td>35.0</td>\n",
       "      <td>1</td>\n",
       "      <td>0</td>\n",
       "      <td>113803</td>\n",
       "      <td>53.1000</td>\n",
       "      <td>C123</td>\n",
       "      <td>S</td>\n",
       "    </tr>\n",
       "    <tr>\n",
       "      <th>5</th>\n",
       "      <td>0</td>\n",
       "      <td>3</td>\n",
       "      <td>Allen, Mr. William Henry</td>\n",
       "      <td>male</td>\n",
       "      <td>35.0</td>\n",
       "      <td>0</td>\n",
       "      <td>0</td>\n",
       "      <td>373450</td>\n",
       "      <td>8.0500</td>\n",
       "      <td>NaN</td>\n",
       "      <td>S</td>\n",
       "    </tr>\n",
       "  </tbody>\n",
       "</table>\n",
       "</div>"
      ],
      "text/plain": [
       "             Survived  Pclass  \\\n",
       "PassengerId                     \n",
       "1                   0       3   \n",
       "2                   1       1   \n",
       "3                   1       3   \n",
       "4                   1       1   \n",
       "5                   0       3   \n",
       "\n",
       "                                                          Name     Sex   Age  \\\n",
       "PassengerId                                                                    \n",
       "1                                      Braund, Mr. Owen Harris    male  22.0   \n",
       "2            Cumings, Mrs. John Bradley (Florence Briggs Th...  female  38.0   \n",
       "3                                       Heikkinen, Miss. Laina  female  26.0   \n",
       "4                 Futrelle, Mrs. Jacques Heath (Lily May Peel)  female  35.0   \n",
       "5                                     Allen, Mr. William Henry    male  35.0   \n",
       "\n",
       "             SibSp  Parch            Ticket     Fare Cabin Embarked  \n",
       "PassengerId                                                          \n",
       "1                1      0         A/5 21171   7.2500   NaN        S  \n",
       "2                1      0          PC 17599  71.2833   C85        C  \n",
       "3                0      0  STON/O2. 3101282   7.9250   NaN        S  \n",
       "4                1      0            113803  53.1000  C123        S  \n",
       "5                0      0            373450   8.0500   NaN        S  "
      ]
     },
     "execution_count": 4,
     "metadata": {},
     "output_type": "execute_result"
    }
   ],
   "source": [
    "train_data.head()"
   ]
  },
  {
   "cell_type": "code",
   "execution_count": 5,
   "id": "3450c64e",
   "metadata": {
    "execution": {
     "iopub.execute_input": "2022-05-22T02:56:58.159461Z",
     "iopub.status.busy": "2022-05-22T02:56:58.158886Z",
     "iopub.status.idle": "2022-05-22T02:56:58.204411Z",
     "shell.execute_reply": "2022-05-22T02:56:58.203499Z"
    },
    "papermill": {
     "duration": 0.093131,
     "end_time": "2022-05-22T02:56:58.206536",
     "exception": false,
     "start_time": "2022-05-22T02:56:58.113405",
     "status": "completed"
    },
    "tags": []
   },
   "outputs": [
    {
     "data": {
      "text/html": [
       "<div>\n",
       "<style scoped>\n",
       "    .dataframe tbody tr th:only-of-type {\n",
       "        vertical-align: middle;\n",
       "    }\n",
       "\n",
       "    .dataframe tbody tr th {\n",
       "        vertical-align: top;\n",
       "    }\n",
       "\n",
       "    .dataframe thead th {\n",
       "        text-align: right;\n",
       "    }\n",
       "</style>\n",
       "<table border=\"1\" class=\"dataframe\">\n",
       "  <thead>\n",
       "    <tr style=\"text-align: right;\">\n",
       "      <th></th>\n",
       "      <th>Survived</th>\n",
       "      <th>Pclass</th>\n",
       "      <th>Name</th>\n",
       "      <th>Sex</th>\n",
       "      <th>Age</th>\n",
       "      <th>SibSp</th>\n",
       "      <th>Parch</th>\n",
       "      <th>Ticket</th>\n",
       "      <th>Fare</th>\n",
       "      <th>Cabin</th>\n",
       "      <th>Embarked</th>\n",
       "    </tr>\n",
       "  </thead>\n",
       "  <tbody>\n",
       "    <tr>\n",
       "      <th>count</th>\n",
       "      <td>891.000000</td>\n",
       "      <td>891.000000</td>\n",
       "      <td>891</td>\n",
       "      <td>891</td>\n",
       "      <td>714.000000</td>\n",
       "      <td>891.000000</td>\n",
       "      <td>891.000000</td>\n",
       "      <td>891</td>\n",
       "      <td>891.000000</td>\n",
       "      <td>204</td>\n",
       "      <td>889</td>\n",
       "    </tr>\n",
       "    <tr>\n",
       "      <th>unique</th>\n",
       "      <td>NaN</td>\n",
       "      <td>NaN</td>\n",
       "      <td>891</td>\n",
       "      <td>2</td>\n",
       "      <td>NaN</td>\n",
       "      <td>NaN</td>\n",
       "      <td>NaN</td>\n",
       "      <td>681</td>\n",
       "      <td>NaN</td>\n",
       "      <td>147</td>\n",
       "      <td>3</td>\n",
       "    </tr>\n",
       "    <tr>\n",
       "      <th>top</th>\n",
       "      <td>NaN</td>\n",
       "      <td>NaN</td>\n",
       "      <td>Braund, Mr. Owen Harris</td>\n",
       "      <td>male</td>\n",
       "      <td>NaN</td>\n",
       "      <td>NaN</td>\n",
       "      <td>NaN</td>\n",
       "      <td>347082</td>\n",
       "      <td>NaN</td>\n",
       "      <td>B96 B98</td>\n",
       "      <td>S</td>\n",
       "    </tr>\n",
       "    <tr>\n",
       "      <th>freq</th>\n",
       "      <td>NaN</td>\n",
       "      <td>NaN</td>\n",
       "      <td>1</td>\n",
       "      <td>577</td>\n",
       "      <td>NaN</td>\n",
       "      <td>NaN</td>\n",
       "      <td>NaN</td>\n",
       "      <td>7</td>\n",
       "      <td>NaN</td>\n",
       "      <td>4</td>\n",
       "      <td>644</td>\n",
       "    </tr>\n",
       "    <tr>\n",
       "      <th>mean</th>\n",
       "      <td>0.383838</td>\n",
       "      <td>2.308642</td>\n",
       "      <td>NaN</td>\n",
       "      <td>NaN</td>\n",
       "      <td>29.699118</td>\n",
       "      <td>0.523008</td>\n",
       "      <td>0.381594</td>\n",
       "      <td>NaN</td>\n",
       "      <td>32.204208</td>\n",
       "      <td>NaN</td>\n",
       "      <td>NaN</td>\n",
       "    </tr>\n",
       "    <tr>\n",
       "      <th>std</th>\n",
       "      <td>0.486592</td>\n",
       "      <td>0.836071</td>\n",
       "      <td>NaN</td>\n",
       "      <td>NaN</td>\n",
       "      <td>14.526497</td>\n",
       "      <td>1.102743</td>\n",
       "      <td>0.806057</td>\n",
       "      <td>NaN</td>\n",
       "      <td>49.693429</td>\n",
       "      <td>NaN</td>\n",
       "      <td>NaN</td>\n",
       "    </tr>\n",
       "    <tr>\n",
       "      <th>min</th>\n",
       "      <td>0.000000</td>\n",
       "      <td>1.000000</td>\n",
       "      <td>NaN</td>\n",
       "      <td>NaN</td>\n",
       "      <td>0.420000</td>\n",
       "      <td>0.000000</td>\n",
       "      <td>0.000000</td>\n",
       "      <td>NaN</td>\n",
       "      <td>0.000000</td>\n",
       "      <td>NaN</td>\n",
       "      <td>NaN</td>\n",
       "    </tr>\n",
       "    <tr>\n",
       "      <th>25%</th>\n",
       "      <td>0.000000</td>\n",
       "      <td>2.000000</td>\n",
       "      <td>NaN</td>\n",
       "      <td>NaN</td>\n",
       "      <td>20.125000</td>\n",
       "      <td>0.000000</td>\n",
       "      <td>0.000000</td>\n",
       "      <td>NaN</td>\n",
       "      <td>7.910400</td>\n",
       "      <td>NaN</td>\n",
       "      <td>NaN</td>\n",
       "    </tr>\n",
       "    <tr>\n",
       "      <th>50%</th>\n",
       "      <td>0.000000</td>\n",
       "      <td>3.000000</td>\n",
       "      <td>NaN</td>\n",
       "      <td>NaN</td>\n",
       "      <td>28.000000</td>\n",
       "      <td>0.000000</td>\n",
       "      <td>0.000000</td>\n",
       "      <td>NaN</td>\n",
       "      <td>14.454200</td>\n",
       "      <td>NaN</td>\n",
       "      <td>NaN</td>\n",
       "    </tr>\n",
       "    <tr>\n",
       "      <th>75%</th>\n",
       "      <td>1.000000</td>\n",
       "      <td>3.000000</td>\n",
       "      <td>NaN</td>\n",
       "      <td>NaN</td>\n",
       "      <td>38.000000</td>\n",
       "      <td>1.000000</td>\n",
       "      <td>0.000000</td>\n",
       "      <td>NaN</td>\n",
       "      <td>31.000000</td>\n",
       "      <td>NaN</td>\n",
       "      <td>NaN</td>\n",
       "    </tr>\n",
       "    <tr>\n",
       "      <th>max</th>\n",
       "      <td>1.000000</td>\n",
       "      <td>3.000000</td>\n",
       "      <td>NaN</td>\n",
       "      <td>NaN</td>\n",
       "      <td>80.000000</td>\n",
       "      <td>8.000000</td>\n",
       "      <td>6.000000</td>\n",
       "      <td>NaN</td>\n",
       "      <td>512.329200</td>\n",
       "      <td>NaN</td>\n",
       "      <td>NaN</td>\n",
       "    </tr>\n",
       "  </tbody>\n",
       "</table>\n",
       "</div>"
      ],
      "text/plain": [
       "          Survived      Pclass                     Name   Sex         Age  \\\n",
       "count   891.000000  891.000000                      891   891  714.000000   \n",
       "unique         NaN         NaN                      891     2         NaN   \n",
       "top            NaN         NaN  Braund, Mr. Owen Harris  male         NaN   \n",
       "freq           NaN         NaN                        1   577         NaN   \n",
       "mean      0.383838    2.308642                      NaN   NaN   29.699118   \n",
       "std       0.486592    0.836071                      NaN   NaN   14.526497   \n",
       "min       0.000000    1.000000                      NaN   NaN    0.420000   \n",
       "25%       0.000000    2.000000                      NaN   NaN   20.125000   \n",
       "50%       0.000000    3.000000                      NaN   NaN   28.000000   \n",
       "75%       1.000000    3.000000                      NaN   NaN   38.000000   \n",
       "max       1.000000    3.000000                      NaN   NaN   80.000000   \n",
       "\n",
       "             SibSp       Parch  Ticket        Fare    Cabin Embarked  \n",
       "count   891.000000  891.000000     891  891.000000      204      889  \n",
       "unique         NaN         NaN     681         NaN      147        3  \n",
       "top            NaN         NaN  347082         NaN  B96 B98        S  \n",
       "freq           NaN         NaN       7         NaN        4      644  \n",
       "mean      0.523008    0.381594     NaN   32.204208      NaN      NaN  \n",
       "std       1.102743    0.806057     NaN   49.693429      NaN      NaN  \n",
       "min       0.000000    0.000000     NaN    0.000000      NaN      NaN  \n",
       "25%       0.000000    0.000000     NaN    7.910400      NaN      NaN  \n",
       "50%       0.000000    0.000000     NaN   14.454200      NaN      NaN  \n",
       "75%       1.000000    0.000000     NaN   31.000000      NaN      NaN  \n",
       "max       8.000000    6.000000     NaN  512.329200      NaN      NaN  "
      ]
     },
     "execution_count": 5,
     "metadata": {},
     "output_type": "execute_result"
    }
   ],
   "source": [
    "train_data.describe(include='all')"
   ]
  },
  {
   "cell_type": "code",
   "execution_count": 6,
   "id": "3106527f",
   "metadata": {
    "execution": {
     "iopub.execute_input": "2022-05-22T02:56:58.300280Z",
     "iopub.status.busy": "2022-05-22T02:56:58.299955Z",
     "iopub.status.idle": "2022-05-22T02:56:58.308643Z",
     "shell.execute_reply": "2022-05-22T02:56:58.307992Z"
    },
    "papermill": {
     "duration": 0.057883,
     "end_time": "2022-05-22T02:56:58.310787",
     "exception": false,
     "start_time": "2022-05-22T02:56:58.252904",
     "status": "completed"
    },
    "tags": []
   },
   "outputs": [],
   "source": [
    "train_data.drop(labels=['Ticket', 'Cabin'], axis=1, inplace=True)\n",
    "test_data.drop(labels=['Ticket', 'Cabin'], axis=1, inplace=True)"
   ]
  },
  {
   "cell_type": "code",
   "execution_count": 7,
   "id": "f62691b8",
   "metadata": {
    "execution": {
     "iopub.execute_input": "2022-05-22T02:56:58.403338Z",
     "iopub.status.busy": "2022-05-22T02:56:58.402485Z",
     "iopub.status.idle": "2022-05-22T02:56:58.411655Z",
     "shell.execute_reply": "2022-05-22T02:56:58.410735Z"
    },
    "papermill": {
     "duration": 0.057742,
     "end_time": "2022-05-22T02:56:58.414006",
     "exception": false,
     "start_time": "2022-05-22T02:56:58.356264",
     "status": "completed"
    },
    "tags": []
   },
   "outputs": [],
   "source": [
    "train_data.replace({'Sex': {'male':0, 'female':1}}, inplace=True)\n",
    "test_data.replace({'Sex': {'male':0, 'female':1}}, inplace=True)"
   ]
  },
  {
   "cell_type": "code",
   "execution_count": 8,
   "id": "94ee1653",
   "metadata": {
    "execution": {
     "iopub.execute_input": "2022-05-22T02:56:58.506477Z",
     "iopub.status.busy": "2022-05-22T02:56:58.506184Z",
     "iopub.status.idle": "2022-05-22T02:56:58.522316Z",
     "shell.execute_reply": "2022-05-22T02:56:58.521342Z"
    },
    "papermill": {
     "duration": 0.065328,
     "end_time": "2022-05-22T02:56:58.524760",
     "exception": false,
     "start_time": "2022-05-22T02:56:58.459432",
     "status": "completed"
    },
    "tags": []
   },
   "outputs": [
    {
     "data": {
      "text/html": [
       "<div>\n",
       "<style scoped>\n",
       "    .dataframe tbody tr th:only-of-type {\n",
       "        vertical-align: middle;\n",
       "    }\n",
       "\n",
       "    .dataframe tbody tr th {\n",
       "        vertical-align: top;\n",
       "    }\n",
       "\n",
       "    .dataframe thead th {\n",
       "        text-align: right;\n",
       "    }\n",
       "</style>\n",
       "<table border=\"1\" class=\"dataframe\">\n",
       "  <thead>\n",
       "    <tr style=\"text-align: right;\">\n",
       "      <th></th>\n",
       "      <th>Survived</th>\n",
       "    </tr>\n",
       "    <tr>\n",
       "      <th>Pclass</th>\n",
       "      <th></th>\n",
       "    </tr>\n",
       "  </thead>\n",
       "  <tbody>\n",
       "    <tr>\n",
       "      <th>1</th>\n",
       "      <td>0.629630</td>\n",
       "    </tr>\n",
       "    <tr>\n",
       "      <th>2</th>\n",
       "      <td>0.472826</td>\n",
       "    </tr>\n",
       "    <tr>\n",
       "      <th>3</th>\n",
       "      <td>0.242363</td>\n",
       "    </tr>\n",
       "  </tbody>\n",
       "</table>\n",
       "</div>"
      ],
      "text/plain": [
       "        Survived\n",
       "Pclass          \n",
       "1       0.629630\n",
       "2       0.472826\n",
       "3       0.242363"
      ]
     },
     "execution_count": 8,
     "metadata": {},
     "output_type": "execute_result"
    }
   ],
   "source": [
    "train_data[['Pclass', 'Survived']].groupby(['Pclass']).mean()"
   ]
  },
  {
   "cell_type": "code",
   "execution_count": 9,
   "id": "3cb1fe23",
   "metadata": {
    "execution": {
     "iopub.execute_input": "2022-05-22T02:56:58.623089Z",
     "iopub.status.busy": "2022-05-22T02:56:58.622365Z",
     "iopub.status.idle": "2022-05-22T02:56:58.635989Z",
     "shell.execute_reply": "2022-05-22T02:56:58.634997Z"
    },
    "papermill": {
     "duration": 0.064945,
     "end_time": "2022-05-22T02:56:58.638112",
     "exception": false,
     "start_time": "2022-05-22T02:56:58.573167",
     "status": "completed"
    },
    "tags": []
   },
   "outputs": [
    {
     "data": {
      "text/html": [
       "<div>\n",
       "<style scoped>\n",
       "    .dataframe tbody tr th:only-of-type {\n",
       "        vertical-align: middle;\n",
       "    }\n",
       "\n",
       "    .dataframe tbody tr th {\n",
       "        vertical-align: top;\n",
       "    }\n",
       "\n",
       "    .dataframe thead th {\n",
       "        text-align: right;\n",
       "    }\n",
       "</style>\n",
       "<table border=\"1\" class=\"dataframe\">\n",
       "  <thead>\n",
       "    <tr style=\"text-align: right;\">\n",
       "      <th></th>\n",
       "      <th>Survived</th>\n",
       "    </tr>\n",
       "    <tr>\n",
       "      <th>Sex</th>\n",
       "      <th></th>\n",
       "    </tr>\n",
       "  </thead>\n",
       "  <tbody>\n",
       "    <tr>\n",
       "      <th>0</th>\n",
       "      <td>0.188908</td>\n",
       "    </tr>\n",
       "    <tr>\n",
       "      <th>1</th>\n",
       "      <td>0.742038</td>\n",
       "    </tr>\n",
       "  </tbody>\n",
       "</table>\n",
       "</div>"
      ],
      "text/plain": [
       "     Survived\n",
       "Sex          \n",
       "0    0.188908\n",
       "1    0.742038"
      ]
     },
     "execution_count": 9,
     "metadata": {},
     "output_type": "execute_result"
    }
   ],
   "source": [
    "train_data[['Sex', 'Survived']].groupby(['Sex']).mean()"
   ]
  },
  {
   "cell_type": "code",
   "execution_count": 10,
   "id": "7d70cbe3",
   "metadata": {
    "execution": {
     "iopub.execute_input": "2022-05-22T02:56:58.734503Z",
     "iopub.status.busy": "2022-05-22T02:56:58.733852Z",
     "iopub.status.idle": "2022-05-22T02:56:58.747779Z",
     "shell.execute_reply": "2022-05-22T02:56:58.746858Z"
    },
    "papermill": {
     "duration": 0.066118,
     "end_time": "2022-05-22T02:56:58.750021",
     "exception": false,
     "start_time": "2022-05-22T02:56:58.683903",
     "status": "completed"
    },
    "tags": []
   },
   "outputs": [
    {
     "data": {
      "text/html": [
       "<div>\n",
       "<style scoped>\n",
       "    .dataframe tbody tr th:only-of-type {\n",
       "        vertical-align: middle;\n",
       "    }\n",
       "\n",
       "    .dataframe tbody tr th {\n",
       "        vertical-align: top;\n",
       "    }\n",
       "\n",
       "    .dataframe thead th {\n",
       "        text-align: right;\n",
       "    }\n",
       "</style>\n",
       "<table border=\"1\" class=\"dataframe\">\n",
       "  <thead>\n",
       "    <tr style=\"text-align: right;\">\n",
       "      <th></th>\n",
       "      <th>Survived</th>\n",
       "    </tr>\n",
       "    <tr>\n",
       "      <th>Embarked</th>\n",
       "      <th></th>\n",
       "    </tr>\n",
       "  </thead>\n",
       "  <tbody>\n",
       "    <tr>\n",
       "      <th>C</th>\n",
       "      <td>0.553571</td>\n",
       "    </tr>\n",
       "    <tr>\n",
       "      <th>Q</th>\n",
       "      <td>0.389610</td>\n",
       "    </tr>\n",
       "    <tr>\n",
       "      <th>S</th>\n",
       "      <td>0.336957</td>\n",
       "    </tr>\n",
       "  </tbody>\n",
       "</table>\n",
       "</div>"
      ],
      "text/plain": [
       "          Survived\n",
       "Embarked          \n",
       "C         0.553571\n",
       "Q         0.389610\n",
       "S         0.336957"
      ]
     },
     "execution_count": 10,
     "metadata": {},
     "output_type": "execute_result"
    }
   ],
   "source": [
    "train_data[['Embarked', 'Survived']].groupby(['Embarked']).mean()"
   ]
  },
  {
   "cell_type": "code",
   "execution_count": 11,
   "id": "a7ee7c50",
   "metadata": {
    "execution": {
     "iopub.execute_input": "2022-05-22T02:56:58.847080Z",
     "iopub.status.busy": "2022-05-22T02:56:58.846775Z",
     "iopub.status.idle": "2022-05-22T02:56:58.852234Z",
     "shell.execute_reply": "2022-05-22T02:56:58.851451Z"
    },
    "papermill": {
     "duration": 0.057124,
     "end_time": "2022-05-22T02:56:58.854156",
     "exception": false,
     "start_time": "2022-05-22T02:56:58.797032",
     "status": "completed"
    },
    "tags": []
   },
   "outputs": [],
   "source": [
    "train_data['Embarked'].fillna('S', inplace=True)\n",
    "test_data['Embarked'].fillna('S', inplace=True)"
   ]
  },
  {
   "cell_type": "code",
   "execution_count": 12,
   "id": "21220e0f",
   "metadata": {
    "execution": {
     "iopub.execute_input": "2022-05-22T02:56:58.951995Z",
     "iopub.status.busy": "2022-05-22T02:56:58.951660Z",
     "iopub.status.idle": "2022-05-22T02:56:58.960003Z",
     "shell.execute_reply": "2022-05-22T02:56:58.959251Z"
    },
    "papermill": {
     "duration": 0.060163,
     "end_time": "2022-05-22T02:56:58.961755",
     "exception": false,
     "start_time": "2022-05-22T02:56:58.901592",
     "status": "completed"
    },
    "tags": []
   },
   "outputs": [],
   "source": [
    "train_data['IsAlone'] = ((train_data['SibSp']==0) & (train_data['Parch']==0)).astype('int')\n",
    "test_data['IsAlone'] = ((test_data['SibSp']==0) & (test_data['Parch']==0)).astype('int')"
   ]
  },
  {
   "cell_type": "code",
   "execution_count": 13,
   "id": "d05c843a",
   "metadata": {
    "execution": {
     "iopub.execute_input": "2022-05-22T02:56:59.063081Z",
     "iopub.status.busy": "2022-05-22T02:56:59.062775Z",
     "iopub.status.idle": "2022-05-22T02:56:59.076136Z",
     "shell.execute_reply": "2022-05-22T02:56:59.075000Z"
    },
    "papermill": {
     "duration": 0.066805,
     "end_time": "2022-05-22T02:56:59.078455",
     "exception": false,
     "start_time": "2022-05-22T02:56:59.011650",
     "status": "completed"
    },
    "tags": []
   },
   "outputs": [
    {
     "data": {
      "text/html": [
       "<div>\n",
       "<style scoped>\n",
       "    .dataframe tbody tr th:only-of-type {\n",
       "        vertical-align: middle;\n",
       "    }\n",
       "\n",
       "    .dataframe tbody tr th {\n",
       "        vertical-align: top;\n",
       "    }\n",
       "\n",
       "    .dataframe thead th {\n",
       "        text-align: right;\n",
       "    }\n",
       "</style>\n",
       "<table border=\"1\" class=\"dataframe\">\n",
       "  <thead>\n",
       "    <tr style=\"text-align: right;\">\n",
       "      <th></th>\n",
       "      <th>Survived</th>\n",
       "    </tr>\n",
       "    <tr>\n",
       "      <th>IsAlone</th>\n",
       "      <th></th>\n",
       "    </tr>\n",
       "  </thead>\n",
       "  <tbody>\n",
       "    <tr>\n",
       "      <th>0</th>\n",
       "      <td>0.505650</td>\n",
       "    </tr>\n",
       "    <tr>\n",
       "      <th>1</th>\n",
       "      <td>0.303538</td>\n",
       "    </tr>\n",
       "  </tbody>\n",
       "</table>\n",
       "</div>"
      ],
      "text/plain": [
       "         Survived\n",
       "IsAlone          \n",
       "0        0.505650\n",
       "1        0.303538"
      ]
     },
     "execution_count": 13,
     "metadata": {},
     "output_type": "execute_result"
    }
   ],
   "source": [
    "train_data[['IsAlone', 'Survived']].groupby(['IsAlone']).mean()"
   ]
  },
  {
   "cell_type": "code",
   "execution_count": 14,
   "id": "1e5c2756",
   "metadata": {
    "execution": {
     "iopub.execute_input": "2022-05-22T02:56:59.175435Z",
     "iopub.status.busy": "2022-05-22T02:56:59.175134Z",
     "iopub.status.idle": "2022-05-22T02:56:59.183017Z",
     "shell.execute_reply": "2022-05-22T02:56:59.181990Z"
    },
    "papermill": {
     "duration": 0.058497,
     "end_time": "2022-05-22T02:56:59.185107",
     "exception": false,
     "start_time": "2022-05-22T02:56:59.126610",
     "status": "completed"
    },
    "tags": []
   },
   "outputs": [],
   "source": [
    "train_data = train_data.drop(['SibSp', 'Parch'], axis=1)\n",
    "test_data = test_data.drop(['SibSp', 'Parch'], axis=1)"
   ]
  },
  {
   "cell_type": "code",
   "execution_count": 15,
   "id": "31f87154",
   "metadata": {
    "execution": {
     "iopub.execute_input": "2022-05-22T02:56:59.281192Z",
     "iopub.status.busy": "2022-05-22T02:56:59.280872Z",
     "iopub.status.idle": "2022-05-22T02:56:59.290630Z",
     "shell.execute_reply": "2022-05-22T02:56:59.289952Z"
    },
    "papermill": {
     "duration": 0.060726,
     "end_time": "2022-05-22T02:56:59.292904",
     "exception": false,
     "start_time": "2022-05-22T02:56:59.232178",
     "status": "completed"
    },
    "tags": []
   },
   "outputs": [],
   "source": [
    "train_data.replace({'Embarked': {'S':0, 'C':1, 'Q':2}}, inplace=True)\n",
    "test_data.replace({'Embarked': {'S':0, 'C':1, 'Q':2}}, inplace=True)"
   ]
  },
  {
   "cell_type": "code",
   "execution_count": 16,
   "id": "be5e03b0",
   "metadata": {
    "execution": {
     "iopub.execute_input": "2022-05-22T02:56:59.388362Z",
     "iopub.status.busy": "2022-05-22T02:56:59.387769Z",
     "iopub.status.idle": "2022-05-22T02:56:59.588682Z",
     "shell.execute_reply": "2022-05-22T02:56:59.588019Z"
    },
    "papermill": {
     "duration": 0.251143,
     "end_time": "2022-05-22T02:56:59.591141",
     "exception": false,
     "start_time": "2022-05-22T02:56:59.339998",
     "status": "completed"
    },
    "tags": []
   },
   "outputs": [
    {
     "data": {
      "text/plain": [
       "<AxesSubplot:xlabel='Fare'>"
      ]
     },
     "execution_count": 16,
     "metadata": {},
     "output_type": "execute_result"
    },
    {
     "data": {
      "image/png": "[encoded data removed]",
      "text/plain": [
       "<Figure size 432x288 with 1 Axes>"
      ]
     },
     "metadata": {
      "needs_background": "light"
     },
     "output_type": "display_data"
    }
   ],
   "source": [
    "sns.boxplot(x=train_data['Fare'])"
   ]
  },
  {
   "cell_type": "code",
   "execution_count": 17,
   "id": "78665d15",
   "metadata": {
    "execution": {
     "iopub.execute_input": "2022-05-22T02:56:59.691874Z",
     "iopub.status.busy": "2022-05-22T02:56:59.691057Z",
     "iopub.status.idle": "2022-05-22T02:56:59.721683Z",
     "shell.execute_reply": "2022-05-22T02:56:59.720718Z"
    },
    "papermill": {
     "duration": 0.083389,
     "end_time": "2022-05-22T02:56:59.724082",
     "exception": false,
     "start_time": "2022-05-22T02:56:59.640693",
     "status": "completed"
    },
    "tags": []
   },
   "outputs": [
    {
     "data": {
      "text/html": [
       "<div>\n",
       "<style scoped>\n",
       "    .dataframe tbody tr th:only-of-type {\n",
       "        vertical-align: middle;\n",
       "    }\n",
       "\n",
       "    .dataframe tbody tr th {\n",
       "        vertical-align: top;\n",
       "    }\n",
       "\n",
       "    .dataframe thead th {\n",
       "        text-align: right;\n",
       "    }\n",
       "</style>\n",
       "<table border=\"1\" class=\"dataframe\">\n",
       "  <thead>\n",
       "    <tr style=\"text-align: right;\">\n",
       "      <th></th>\n",
       "      <th>Survived</th>\n",
       "      <th>Pclass</th>\n",
       "      <th>Sex</th>\n",
       "      <th>Age</th>\n",
       "      <th>Fare</th>\n",
       "      <th>Embarked</th>\n",
       "      <th>IsAlone</th>\n",
       "    </tr>\n",
       "  </thead>\n",
       "  <tbody>\n",
       "    <tr>\n",
       "      <th>count</th>\n",
       "      <td>891.000000</td>\n",
       "      <td>891.000000</td>\n",
       "      <td>891.000000</td>\n",
       "      <td>714.000000</td>\n",
       "      <td>891.000000</td>\n",
       "      <td>891.000000</td>\n",
       "      <td>891.000000</td>\n",
       "    </tr>\n",
       "    <tr>\n",
       "      <th>mean</th>\n",
       "      <td>0.383838</td>\n",
       "      <td>2.308642</td>\n",
       "      <td>0.352413</td>\n",
       "      <td>29.699118</td>\n",
       "      <td>32.204208</td>\n",
       "      <td>0.361392</td>\n",
       "      <td>0.602694</td>\n",
       "    </tr>\n",
       "    <tr>\n",
       "      <th>std</th>\n",
       "      <td>0.486592</td>\n",
       "      <td>0.836071</td>\n",
       "      <td>0.477990</td>\n",
       "      <td>14.526497</td>\n",
       "      <td>49.693429</td>\n",
       "      <td>0.635673</td>\n",
       "      <td>0.489615</td>\n",
       "    </tr>\n",
       "    <tr>\n",
       "      <th>min</th>\n",
       "      <td>0.000000</td>\n",
       "      <td>1.000000</td>\n",
       "      <td>0.000000</td>\n",
       "      <td>0.420000</td>\n",
       "      <td>0.000000</td>\n",
       "      <td>0.000000</td>\n",
       "      <td>0.000000</td>\n",
       "    </tr>\n",
       "    <tr>\n",
       "      <th>25%</th>\n",
       "      <td>0.000000</td>\n",
       "      <td>2.000000</td>\n",
       "      <td>0.000000</td>\n",
       "      <td>20.125000</td>\n",
       "      <td>7.910400</td>\n",
       "      <td>0.000000</td>\n",
       "      <td>0.000000</td>\n",
       "    </tr>\n",
       "    <tr>\n",
       "      <th>50%</th>\n",
       "      <td>0.000000</td>\n",
       "      <td>3.000000</td>\n",
       "      <td>0.000000</td>\n",
       "      <td>28.000000</td>\n",
       "      <td>14.454200</td>\n",
       "      <td>0.000000</td>\n",
       "      <td>1.000000</td>\n",
       "    </tr>\n",
       "    <tr>\n",
       "      <th>75%</th>\n",
       "      <td>1.000000</td>\n",
       "      <td>3.000000</td>\n",
       "      <td>1.000000</td>\n",
       "      <td>38.000000</td>\n",
       "      <td>31.000000</td>\n",
       "      <td>1.000000</td>\n",
       "      <td>1.000000</td>\n",
       "    </tr>\n",
       "    <tr>\n",
       "      <th>max</th>\n",
       "      <td>1.000000</td>\n",
       "      <td>3.000000</td>\n",
       "      <td>1.000000</td>\n",
       "      <td>80.000000</td>\n",
       "      <td>512.329200</td>\n",
       "      <td>2.000000</td>\n",
       "      <td>1.000000</td>\n",
       "    </tr>\n",
       "  </tbody>\n",
       "</table>\n",
       "</div>"
      ],
      "text/plain": [
       "         Survived      Pclass         Sex         Age        Fare    Embarked  \\\n",
       "count  891.000000  891.000000  891.000000  714.000000  891.000000  891.000000   \n",
       "mean     0.383838    2.308642    0.352413   29.699118   32.204208    0.361392   \n",
       "std      0.486592    0.836071    0.477990   14.526497   49.693429    0.635673   \n",
       "min      0.000000    1.000000    0.000000    0.420000    0.000000    0.000000   \n",
       "25%      0.000000    2.000000    0.000000   20.125000    7.910400    0.000000   \n",
       "50%      0.000000    3.000000    0.000000   28.000000   14.454200    0.000000   \n",
       "75%      1.000000    3.000000    1.000000   38.000000   31.000000    1.000000   \n",
       "max      1.000000    3.000000    1.000000   80.000000  512.329200    2.000000   \n",
       "\n",
       "          IsAlone  \n",
       "count  891.000000  \n",
       "mean     0.602694  \n",
       "std      0.489615  \n",
       "min      0.000000  \n",
       "25%      0.000000  \n",
       "50%      1.000000  \n",
       "75%      1.000000  \n",
       "max      1.000000  "
      ]
     },
     "execution_count": 17,
     "metadata": {},
     "output_type": "execute_result"
    }
   ],
   "source": [
    "train_data.describe()"
   ]
  },
  {
   "cell_type": "code",
   "execution_count": 18,
   "id": "22fdab58",
   "metadata": {
    "execution": {
     "iopub.execute_input": "2022-05-22T02:56:59.825654Z",
     "iopub.status.busy": "2022-05-22T02:56:59.825211Z",
     "iopub.status.idle": "2022-05-22T02:56:59.831805Z",
     "shell.execute_reply": "2022-05-22T02:56:59.831086Z"
    },
    "papermill": {
     "duration": 0.058632,
     "end_time": "2022-05-22T02:56:59.833882",
     "exception": false,
     "start_time": "2022-05-22T02:56:59.775250",
     "status": "completed"
    },
    "tags": []
   },
   "outputs": [],
   "source": [
    "train_data['Fare'].fillna(train_data['Fare'].dropna().median(), inplace=True)\n",
    "test_data['Fare'].fillna(test_data['Fare'].dropna().median(), inplace=True)"
   ]
  },
  {
   "cell_type": "code",
   "execution_count": 19,
   "id": "27e1b2e9",
   "metadata": {
    "execution": {
     "iopub.execute_input": "2022-05-22T02:56:59.934588Z",
     "iopub.status.busy": "2022-05-22T02:56:59.934106Z",
     "iopub.status.idle": "2022-05-22T02:56:59.952680Z",
     "shell.execute_reply": "2022-05-22T02:56:59.951917Z"
    },
    "papermill": {
     "duration": 0.071948,
     "end_time": "2022-05-22T02:56:59.955050",
     "exception": false,
     "start_time": "2022-05-22T02:56:59.883102",
     "status": "completed"
    },
    "tags": []
   },
   "outputs": [],
   "source": [
    "train_data.loc[ train_data['Fare'] <= 7.91, 'Fare'] = 0\n",
    "train_data.loc[(train_data['Fare'] > 7.91) & (train_data['Fare'] <= 14.454), 'Fare'] = 1\n",
    "train_data.loc[(train_data['Fare'] > 14.454) & (train_data['Fare'] <= 31), 'Fare'] = 2\n",
    "train_data.loc[(train_data['Fare'] > 31) & (train_data['Fare'] <= 80), 'Fare'] = 3\n",
    "train_data.loc[ train_data['Fare'] > 80, 'Fare'] = 4\n",
    "train_data['Fare'] = train_data['Fare'].astype(int)\n",
    "\n",
    "test_data.loc[ test_data['Fare'] <= 7.91, 'Fare'] = 0\n",
    "test_data.loc[(test_data['Fare'] > 7.91) & (test_data['Fare'] <= 14.454), 'Fare'] = 1\n",
    "test_data.loc[(test_data['Fare'] > 14.454) & (test_data['Fare'] <= 31), 'Fare'] = 2\n",
    "test_data.loc[(test_data['Fare'] > 31) & (test_data['Fare'] <= 80), 'Fare'] = 3\n",
    "test_data.loc[ test_data['Fare'] > 80, 'Fare'] = 4\n",
    "test_data['Fare'] = test_data['Fare'].astype(int)"
   ]
  },
  {
   "cell_type": "code",
   "execution_count": 20,
   "id": "6726faf9",
   "metadata": {
    "execution": {
     "iopub.execute_input": "2022-05-22T02:57:00.071129Z",
     "iopub.status.busy": "2022-05-22T02:57:00.070785Z",
     "iopub.status.idle": "2022-05-22T02:57:00.237387Z",
     "shell.execute_reply": "2022-05-22T02:57:00.236340Z"
    },
    "papermill": {
     "duration": 0.223993,
     "end_time": "2022-05-22T02:57:00.239539",
     "exception": false,
     "start_time": "2022-05-22T02:57:00.015546",
     "status": "completed"
    },
    "tags": []
   },
   "outputs": [
    {
     "data": {
      "text/plain": [
       "<AxesSubplot:xlabel='Age'>"
      ]
     },
     "execution_count": 20,
     "metadata": {},
     "output_type": "execute_result"
    },
    {
     "data": {
      "image/png": "[encoded data removed]",
      "text/plain": [
       "<Figure size 432x288 with 1 Axes>"
      ]
     },
     "metadata": {
      "needs_background": "light"
     },
     "output_type": "display_data"
    }
   ],
   "source": [
    "sns.boxplot(x=train_data['Age'])"
   ]
  },
  {
   "cell_type": "code",
   "execution_count": 21,
   "id": "5bf6fc30",
   "metadata": {
    "execution": {
     "iopub.execute_input": "2022-05-22T02:57:00.343871Z",
     "iopub.status.busy": "2022-05-22T02:57:00.343532Z",
     "iopub.status.idle": "2022-05-22T02:57:00.349972Z",
     "shell.execute_reply": "2022-05-22T02:57:00.349269Z"
    },
    "papermill": {
     "duration": 0.060519,
     "end_time": "2022-05-22T02:57:00.352125",
     "exception": false,
     "start_time": "2022-05-22T02:57:00.291606",
     "status": "completed"
    },
    "tags": []
   },
   "outputs": [],
   "source": [
    "train_data['Age'].fillna(train_data['Age'].dropna().median(), inplace=True)\n",
    "test_data['Age'].fillna(test_data['Age'].dropna().median(), inplace=True)"
   ]
  },
  {
   "cell_type": "code",
   "execution_count": 22,
   "id": "4dea7609",
   "metadata": {
    "execution": {
     "iopub.execute_input": "2022-05-22T02:57:00.456419Z",
     "iopub.status.busy": "2022-05-22T02:57:00.455879Z",
     "iopub.status.idle": "2022-05-22T02:57:00.478043Z",
     "shell.execute_reply": "2022-05-22T02:57:00.477297Z"
    },
    "papermill": {
     "duration": 0.077254,
     "end_time": "2022-05-22T02:57:00.480284",
     "exception": false,
     "start_time": "2022-05-22T02:57:00.403030",
     "status": "completed"
    },
    "tags": []
   },
   "outputs": [
    {
     "data": {
      "text/html": [
       "<div>\n",
       "<style scoped>\n",
       "    .dataframe tbody tr th:only-of-type {\n",
       "        vertical-align: middle;\n",
       "    }\n",
       "\n",
       "    .dataframe tbody tr th {\n",
       "        vertical-align: top;\n",
       "    }\n",
       "\n",
       "    .dataframe thead th {\n",
       "        text-align: right;\n",
       "    }\n",
       "</style>\n",
       "<table border=\"1\" class=\"dataframe\">\n",
       "  <thead>\n",
       "    <tr style=\"text-align: right;\">\n",
       "      <th></th>\n",
       "      <th>Survived</th>\n",
       "    </tr>\n",
       "    <tr>\n",
       "      <th>AgeBand</th>\n",
       "      <th></th>\n",
       "    </tr>\n",
       "  </thead>\n",
       "  <tbody>\n",
       "    <tr>\n",
       "      <th>(0.34, 16.336]</th>\n",
       "      <td>0.550000</td>\n",
       "    </tr>\n",
       "    <tr>\n",
       "      <th>(16.336, 32.252]</th>\n",
       "      <td>0.344168</td>\n",
       "    </tr>\n",
       "    <tr>\n",
       "      <th>(32.252, 48.168]</th>\n",
       "      <td>0.404255</td>\n",
       "    </tr>\n",
       "    <tr>\n",
       "      <th>(48.168, 64.084]</th>\n",
       "      <td>0.434783</td>\n",
       "    </tr>\n",
       "    <tr>\n",
       "      <th>(64.084, 80.0]</th>\n",
       "      <td>0.090909</td>\n",
       "    </tr>\n",
       "  </tbody>\n",
       "</table>\n",
       "</div>"
      ],
      "text/plain": [
       "                  Survived\n",
       "AgeBand                   \n",
       "(0.34, 16.336]    0.550000\n",
       "(16.336, 32.252]  0.344168\n",
       "(32.252, 48.168]  0.404255\n",
       "(48.168, 64.084]  0.434783\n",
       "(64.084, 80.0]    0.090909"
      ]
     },
     "execution_count": 22,
     "metadata": {},
     "output_type": "execute_result"
    }
   ],
   "source": [
    "train_data['AgeBand'] = pd.cut(train_data['Age'], 5)\n",
    "train_data[['AgeBand', 'Survived']].groupby('AgeBand').mean()"
   ]
  },
  {
   "cell_type": "code",
   "execution_count": 23,
   "id": "497dc852",
   "metadata": {
    "execution": {
     "iopub.execute_input": "2022-05-22T02:57:00.585328Z",
     "iopub.status.busy": "2022-05-22T02:57:00.585024Z",
     "iopub.status.idle": "2022-05-22T02:57:00.604786Z",
     "shell.execute_reply": "2022-05-22T02:57:00.604055Z"
    },
    "papermill": {
     "duration": 0.07611,
     "end_time": "2022-05-22T02:57:00.607022",
     "exception": false,
     "start_time": "2022-05-22T02:57:00.530912",
     "status": "completed"
    },
    "tags": []
   },
   "outputs": [],
   "source": [
    "train_data.loc[ train_data['Age'] <= 16, 'Age'] = 0\n",
    "train_data.loc[(train_data['Age'] > 16) & (train_data['Age'] <= 32), 'Age'] = 1\n",
    "train_data.loc[(train_data['Age'] > 32) & (train_data['Age'] <= 48), 'Age'] = 2\n",
    "train_data.loc[(train_data['Age'] > 48) & (train_data['Age'] <= 64), 'Age'] = 3\n",
    "train_data.loc[ train_data['Age'] > 64, 'Age'] = 4\n",
    "train_data['Age'] = train_data['Age'].astype(int)\n",
    "\n",
    "test_data.loc[ test_data['Age'] <= 16, 'Age'] = 0\n",
    "test_data.loc[(test_data['Age'] > 16) & (test_data['Age'] <= 32), 'Age'] = 1\n",
    "test_data.loc[(test_data['Age'] > 32) & (test_data['Age'] <= 48), 'Age'] = 2\n",
    "test_data.loc[(test_data['Age'] > 48) & (test_data['Age'] <= 64), 'Age'] = 3\n",
    "test_data.loc[ test_data['Age'] > 64, 'Age'] = 4\n",
    "test_data['Age'] = test_data['Age'].astype(int)"
   ]
  },
  {
   "cell_type": "code",
   "execution_count": 24,
   "id": "b3359e4a",
   "metadata": {
    "execution": {
     "iopub.execute_input": "2022-05-22T02:57:00.711098Z",
     "iopub.status.busy": "2022-05-22T02:57:00.710770Z",
     "iopub.status.idle": "2022-05-22T02:57:00.717019Z",
     "shell.execute_reply": "2022-05-22T02:57:00.716083Z"
    },
    "papermill": {
     "duration": 0.060165,
     "end_time": "2022-05-22T02:57:00.719298",
     "exception": false,
     "start_time": "2022-05-22T02:57:00.659133",
     "status": "completed"
    },
    "tags": []
   },
   "outputs": [],
   "source": [
    "train_data.drop(['AgeBand'], axis=1, inplace=True)"
   ]
  },
  {
   "cell_type": "code",
   "execution_count": 25,
   "id": "93164dbc",
   "metadata": {
    "execution": {
     "iopub.execute_input": "2022-05-22T02:57:00.825562Z",
     "iopub.status.busy": "2022-05-22T02:57:00.825244Z",
     "iopub.status.idle": "2022-05-22T02:57:00.837741Z",
     "shell.execute_reply": "2022-05-22T02:57:00.837139Z"
    },
    "papermill": {
     "duration": 0.067736,
     "end_time": "2022-05-22T02:57:00.839534",
     "exception": false,
     "start_time": "2022-05-22T02:57:00.771798",
     "status": "completed"
    },
    "tags": []
   },
   "outputs": [
    {
     "data": {
      "text/html": [
       "<div>\n",
       "<style scoped>\n",
       "    .dataframe tbody tr th:only-of-type {\n",
       "        vertical-align: middle;\n",
       "    }\n",
       "\n",
       "    .dataframe tbody tr th {\n",
       "        vertical-align: top;\n",
       "    }\n",
       "\n",
       "    .dataframe thead th {\n",
       "        text-align: right;\n",
       "    }\n",
       "</style>\n",
       "<table border=\"1\" class=\"dataframe\">\n",
       "  <thead>\n",
       "    <tr style=\"text-align: right;\">\n",
       "      <th></th>\n",
       "      <th>Survived</th>\n",
       "      <th>Pclass</th>\n",
       "      <th>Name</th>\n",
       "      <th>Sex</th>\n",
       "      <th>Age</th>\n",
       "      <th>Fare</th>\n",
       "      <th>Embarked</th>\n",
       "      <th>IsAlone</th>\n",
       "    </tr>\n",
       "    <tr>\n",
       "      <th>PassengerId</th>\n",
       "      <th></th>\n",
       "      <th></th>\n",
       "      <th></th>\n",
       "      <th></th>\n",
       "      <th></th>\n",
       "      <th></th>\n",
       "      <th></th>\n",
       "      <th></th>\n",
       "    </tr>\n",
       "  </thead>\n",
       "  <tbody>\n",
       "    <tr>\n",
       "      <th>1</th>\n",
       "      <td>0</td>\n",
       "      <td>3</td>\n",
       "      <td>Braund, Mr. Owen Harris</td>\n",
       "      <td>0</td>\n",
       "      <td>1</td>\n",
       "      <td>0</td>\n",
       "      <td>0</td>\n",
       "      <td>0</td>\n",
       "    </tr>\n",
       "    <tr>\n",
       "      <th>2</th>\n",
       "      <td>1</td>\n",
       "      <td>1</td>\n",
       "      <td>Cumings, Mrs. John Bradley (Florence Briggs Th...</td>\n",
       "      <td>1</td>\n",
       "      <td>2</td>\n",
       "      <td>3</td>\n",
       "      <td>1</td>\n",
       "      <td>0</td>\n",
       "    </tr>\n",
       "    <tr>\n",
       "      <th>3</th>\n",
       "      <td>1</td>\n",
       "      <td>3</td>\n",
       "      <td>Heikkinen, Miss. Laina</td>\n",
       "      <td>1</td>\n",
       "      <td>1</td>\n",
       "      <td>1</td>\n",
       "      <td>0</td>\n",
       "      <td>1</td>\n",
       "    </tr>\n",
       "    <tr>\n",
       "      <th>4</th>\n",
       "      <td>1</td>\n",
       "      <td>1</td>\n",
       "      <td>Futrelle, Mrs. Jacques Heath (Lily May Peel)</td>\n",
       "      <td>1</td>\n",
       "      <td>2</td>\n",
       "      <td>3</td>\n",
       "      <td>0</td>\n",
       "      <td>0</td>\n",
       "    </tr>\n",
       "    <tr>\n",
       "      <th>5</th>\n",
       "      <td>0</td>\n",
       "      <td>3</td>\n",
       "      <td>Allen, Mr. William Henry</td>\n",
       "      <td>0</td>\n",
       "      <td>2</td>\n",
       "      <td>1</td>\n",
       "      <td>0</td>\n",
       "      <td>1</td>\n",
       "    </tr>\n",
       "    <tr>\n",
       "      <th>6</th>\n",
       "      <td>0</td>\n",
       "      <td>3</td>\n",
       "      <td>Moran, Mr. James</td>\n",
       "      <td>0</td>\n",
       "      <td>1</td>\n",
       "      <td>1</td>\n",
       "      <td>2</td>\n",
       "      <td>1</td>\n",
       "    </tr>\n",
       "    <tr>\n",
       "      <th>7</th>\n",
       "      <td>0</td>\n",
       "      <td>1</td>\n",
       "      <td>McCarthy, Mr. Timothy J</td>\n",
       "      <td>0</td>\n",
       "      <td>3</td>\n",
       "      <td>3</td>\n",
       "      <td>0</td>\n",
       "      <td>1</td>\n",
       "    </tr>\n",
       "    <tr>\n",
       "      <th>8</th>\n",
       "      <td>0</td>\n",
       "      <td>3</td>\n",
       "      <td>Palsson, Master. Gosta Leonard</td>\n",
       "      <td>0</td>\n",
       "      <td>0</td>\n",
       "      <td>2</td>\n",
       "      <td>0</td>\n",
       "      <td>0</td>\n",
       "    </tr>\n",
       "    <tr>\n",
       "      <th>9</th>\n",
       "      <td>1</td>\n",
       "      <td>3</td>\n",
       "      <td>Johnson, Mrs. Oscar W (Elisabeth Vilhelmina Berg)</td>\n",
       "      <td>1</td>\n",
       "      <td>1</td>\n",
       "      <td>1</td>\n",
       "      <td>0</td>\n",
       "      <td>0</td>\n",
       "    </tr>\n",
       "    <tr>\n",
       "      <th>10</th>\n",
       "      <td>1</td>\n",
       "      <td>2</td>\n",
       "      <td>Nasser, Mrs. Nicholas (Adele Achem)</td>\n",
       "      <td>1</td>\n",
       "      <td>0</td>\n",
       "      <td>2</td>\n",
       "      <td>1</td>\n",
       "      <td>0</td>\n",
       "    </tr>\n",
       "  </tbody>\n",
       "</table>\n",
       "</div>"
      ],
      "text/plain": [
       "             Survived  Pclass  \\\n",
       "PassengerId                     \n",
       "1                   0       3   \n",
       "2                   1       1   \n",
       "3                   1       3   \n",
       "4                   1       1   \n",
       "5                   0       3   \n",
       "6                   0       3   \n",
       "7                   0       1   \n",
       "8                   0       3   \n",
       "9                   1       3   \n",
       "10                  1       2   \n",
       "\n",
       "                                                          Name  Sex  Age  \\\n",
       "PassengerId                                                                \n",
       "1                                      Braund, Mr. Owen Harris    0    1   \n",
       "2            Cumings, Mrs. John Bradley (Florence Briggs Th...    1    2   \n",
       "3                                       Heikkinen, Miss. Laina    1    1   \n",
       "4                 Futrelle, Mrs. Jacques Heath (Lily May Peel)    1    2   \n",
       "5                                     Allen, Mr. William Henry    0    2   \n",
       "6                                             Moran, Mr. James    0    1   \n",
       "7                                      McCarthy, Mr. Timothy J    0    3   \n",
       "8                               Palsson, Master. Gosta Leonard    0    0   \n",
       "9            Johnson, Mrs. Oscar W (Elisabeth Vilhelmina Berg)    1    1   \n",
       "10                         Nasser, Mrs. Nicholas (Adele Achem)    1    0   \n",
       "\n",
       "             Fare  Embarked  IsAlone  \n",
       "PassengerId                           \n",
       "1               0         0        0  \n",
       "2               3         1        0  \n",
       "3               1         0        1  \n",
       "4               3         0        0  \n",
       "5               1         0        1  \n",
       "6               1         2        1  \n",
       "7               3         0        1  \n",
       "8               2         0        0  \n",
       "9               1         0        0  \n",
       "10              2         1        0  "
      ]
     },
     "execution_count": 25,
     "metadata": {},
     "output_type": "execute_result"
    }
   ],
   "source": [
    "train_data.head(10)"
   ]
  },
  {
   "cell_type": "code",
   "execution_count": 26,
   "id": "1f54da59",
   "metadata": {
    "execution": {
     "iopub.execute_input": "2022-05-22T02:57:00.946005Z",
     "iopub.status.busy": "2022-05-22T02:57:00.945111Z",
     "iopub.status.idle": "2022-05-22T02:57:00.958662Z",
     "shell.execute_reply": "2022-05-22T02:57:00.957791Z"
    },
    "papermill": {
     "duration": 0.069798,
     "end_time": "2022-05-22T02:57:00.960780",
     "exception": false,
     "start_time": "2022-05-22T02:57:00.890982",
     "status": "completed"
    },
    "tags": []
   },
   "outputs": [
    {
     "data": {
      "text/plain": [
       "Mr          517\n",
       "Miss        182\n",
       "Mrs         125\n",
       "Master       40\n",
       "Dr            7\n",
       "Rev           6\n",
       "Mlle          2\n",
       "Major         2\n",
       "Col           2\n",
       "Countess      1\n",
       "Capt          1\n",
       "Ms            1\n",
       "Sir           1\n",
       "Lady          1\n",
       "Mme           1\n",
       "Don           1\n",
       "Jonkheer      1\n",
       "Name: Title, dtype: int64"
      ]
     },
     "execution_count": 26,
     "metadata": {},
     "output_type": "execute_result"
    }
   ],
   "source": [
    "train_data['Title'] = train_data['Name'].str.extract('([A-Za-z]+)\\.', expand=False)\n",
    "train_data['Title'].value_counts()"
   ]
  },
  {
   "cell_type": "code",
   "execution_count": 27,
   "id": "029f510c",
   "metadata": {
    "execution": {
     "iopub.execute_input": "2022-05-22T02:57:01.067585Z",
     "iopub.status.busy": "2022-05-22T02:57:01.067291Z",
     "iopub.status.idle": "2022-05-22T02:57:01.083049Z",
     "shell.execute_reply": "2022-05-22T02:57:01.082366Z"
    },
    "papermill": {
     "duration": 0.071424,
     "end_time": "2022-05-22T02:57:01.085049",
     "exception": false,
     "start_time": "2022-05-22T02:57:01.013625",
     "status": "completed"
    },
    "tags": []
   },
   "outputs": [
    {
     "data": {
      "text/html": [
       "<div>\n",
       "<style scoped>\n",
       "    .dataframe tbody tr th:only-of-type {\n",
       "        vertical-align: middle;\n",
       "    }\n",
       "\n",
       "    .dataframe tbody tr th {\n",
       "        vertical-align: top;\n",
       "    }\n",
       "\n",
       "    .dataframe thead th {\n",
       "        text-align: right;\n",
       "    }\n",
       "</style>\n",
       "<table border=\"1\" class=\"dataframe\">\n",
       "  <thead>\n",
       "    <tr style=\"text-align: right;\">\n",
       "      <th></th>\n",
       "      <th>Title</th>\n",
       "      <th>Survived</th>\n",
       "    </tr>\n",
       "  </thead>\n",
       "  <tbody>\n",
       "    <tr>\n",
       "      <th>0</th>\n",
       "      <td>Capt</td>\n",
       "      <td>0.000000</td>\n",
       "    </tr>\n",
       "    <tr>\n",
       "      <th>1</th>\n",
       "      <td>Col</td>\n",
       "      <td>0.500000</td>\n",
       "    </tr>\n",
       "    <tr>\n",
       "      <th>2</th>\n",
       "      <td>Countess</td>\n",
       "      <td>1.000000</td>\n",
       "    </tr>\n",
       "    <tr>\n",
       "      <th>3</th>\n",
       "      <td>Don</td>\n",
       "      <td>0.000000</td>\n",
       "    </tr>\n",
       "    <tr>\n",
       "      <th>4</th>\n",
       "      <td>Dr</td>\n",
       "      <td>0.428571</td>\n",
       "    </tr>\n",
       "    <tr>\n",
       "      <th>5</th>\n",
       "      <td>Jonkheer</td>\n",
       "      <td>0.000000</td>\n",
       "    </tr>\n",
       "    <tr>\n",
       "      <th>6</th>\n",
       "      <td>Lady</td>\n",
       "      <td>1.000000</td>\n",
       "    </tr>\n",
       "    <tr>\n",
       "      <th>7</th>\n",
       "      <td>Major</td>\n",
       "      <td>0.500000</td>\n",
       "    </tr>\n",
       "    <tr>\n",
       "      <th>8</th>\n",
       "      <td>Master</td>\n",
       "      <td>0.575000</td>\n",
       "    </tr>\n",
       "    <tr>\n",
       "      <th>9</th>\n",
       "      <td>Miss</td>\n",
       "      <td>0.697802</td>\n",
       "    </tr>\n",
       "    <tr>\n",
       "      <th>10</th>\n",
       "      <td>Mlle</td>\n",
       "      <td>1.000000</td>\n",
       "    </tr>\n",
       "    <tr>\n",
       "      <th>11</th>\n",
       "      <td>Mme</td>\n",
       "      <td>1.000000</td>\n",
       "    </tr>\n",
       "    <tr>\n",
       "      <th>12</th>\n",
       "      <td>Mr</td>\n",
       "      <td>0.156673</td>\n",
       "    </tr>\n",
       "    <tr>\n",
       "      <th>13</th>\n",
       "      <td>Mrs</td>\n",
       "      <td>0.792000</td>\n",
       "    </tr>\n",
       "    <tr>\n",
       "      <th>14</th>\n",
       "      <td>Ms</td>\n",
       "      <td>1.000000</td>\n",
       "    </tr>\n",
       "    <tr>\n",
       "      <th>15</th>\n",
       "      <td>Rev</td>\n",
       "      <td>0.000000</td>\n",
       "    </tr>\n",
       "    <tr>\n",
       "      <th>16</th>\n",
       "      <td>Sir</td>\n",
       "      <td>1.000000</td>\n",
       "    </tr>\n",
       "  </tbody>\n",
       "</table>\n",
       "</div>"
      ],
      "text/plain": [
       "       Title  Survived\n",
       "0       Capt  0.000000\n",
       "1        Col  0.500000\n",
       "2   Countess  1.000000\n",
       "3        Don  0.000000\n",
       "4         Dr  0.428571\n",
       "5   Jonkheer  0.000000\n",
       "6       Lady  1.000000\n",
       "7      Major  0.500000\n",
       "8     Master  0.575000\n",
       "9       Miss  0.697802\n",
       "10      Mlle  1.000000\n",
       "11       Mme  1.000000\n",
       "12        Mr  0.156673\n",
       "13       Mrs  0.792000\n",
       "14        Ms  1.000000\n",
       "15       Rev  0.000000\n",
       "16       Sir  1.000000"
      ]
     },
     "execution_count": 27,
     "metadata": {},
     "output_type": "execute_result"
    }
   ],
   "source": [
    "train_data[['Title', 'Survived']].groupby('Title', as_index=False).mean()"
   ]
  },
  {
   "cell_type": "code",
   "execution_count": 28,
   "id": "4805fdbd",
   "metadata": {
    "execution": {
     "iopub.execute_input": "2022-05-22T02:57:01.192875Z",
     "iopub.status.busy": "2022-05-22T02:57:01.192419Z",
     "iopub.status.idle": "2022-05-22T02:57:01.198979Z",
     "shell.execute_reply": "2022-05-22T02:57:01.198280Z"
    },
    "papermill": {
     "duration": 0.062979,
     "end_time": "2022-05-22T02:57:01.201159",
     "exception": false,
     "start_time": "2022-05-22T02:57:01.138180",
     "status": "completed"
    },
    "tags": []
   },
   "outputs": [],
   "source": [
    "test_data['Title'] = test_data['Name'].str.extract('([A-Za-z]+)\\.', expand=False)"
   ]
  },
  {
   "cell_type": "code",
   "execution_count": 29,
   "id": "3f56bcb8",
   "metadata": {
    "execution": {
     "iopub.execute_input": "2022-05-22T02:57:01.311346Z",
     "iopub.status.busy": "2022-05-22T02:57:01.310579Z",
     "iopub.status.idle": "2022-05-22T02:57:01.322027Z",
     "shell.execute_reply": "2022-05-22T02:57:01.321308Z"
    },
    "papermill": {
     "duration": 0.068193,
     "end_time": "2022-05-22T02:57:01.324296",
     "exception": false,
     "start_time": "2022-05-22T02:57:01.256103",
     "status": "completed"
    },
    "tags": []
   },
   "outputs": [],
   "source": [
    "train_data['Title'].replace(['Dr', 'Rev', 'Major', 'Col', 'Countess', 'Capt',\\\n",
    "                             'Ms', 'Sir', 'Mme', 'Don', 'Jonkheer'], 'Rare', inplace=True)\n",
    "train_data['Title'].replace(['Lady', 'Mlle'], 'Miss', inplace=True)\n",
    "test_data['Title'].replace(['Dr', 'Rev', 'Major', 'Col', 'Countess', 'Capt',\\\n",
    "                             'Ms', 'Sir', 'Mme', 'Don', 'Jonkheer'], 'Rare', inplace=True)\n",
    "test_data['Title'].replace(['Lady', 'Mlle'], 'Miss', inplace=True)"
   ]
  },
  {
   "cell_type": "code",
   "execution_count": 30,
   "id": "4c43aee3",
   "metadata": {
    "execution": {
     "iopub.execute_input": "2022-05-22T02:57:01.433494Z",
     "iopub.status.busy": "2022-05-22T02:57:01.432953Z",
     "iopub.status.idle": "2022-05-22T02:57:01.445599Z",
     "shell.execute_reply": "2022-05-22T02:57:01.445006Z"
    },
    "papermill": {
     "duration": 0.06807,
     "end_time": "2022-05-22T02:57:01.447505",
     "exception": false,
     "start_time": "2022-05-22T02:57:01.379435",
     "status": "completed"
    },
    "tags": []
   },
   "outputs": [
    {
     "data": {
      "text/html": [
       "<div>\n",
       "<style scoped>\n",
       "    .dataframe tbody tr th:only-of-type {\n",
       "        vertical-align: middle;\n",
       "    }\n",
       "\n",
       "    .dataframe tbody tr th {\n",
       "        vertical-align: top;\n",
       "    }\n",
       "\n",
       "    .dataframe thead th {\n",
       "        text-align: right;\n",
       "    }\n",
       "</style>\n",
       "<table border=\"1\" class=\"dataframe\">\n",
       "  <thead>\n",
       "    <tr style=\"text-align: right;\">\n",
       "      <th></th>\n",
       "      <th>Title</th>\n",
       "      <th>Survived</th>\n",
       "    </tr>\n",
       "  </thead>\n",
       "  <tbody>\n",
       "    <tr>\n",
       "      <th>0</th>\n",
       "      <td>Master</td>\n",
       "      <td>0.575000</td>\n",
       "    </tr>\n",
       "    <tr>\n",
       "      <th>1</th>\n",
       "      <td>Miss</td>\n",
       "      <td>0.702703</td>\n",
       "    </tr>\n",
       "    <tr>\n",
       "      <th>2</th>\n",
       "      <td>Mr</td>\n",
       "      <td>0.156673</td>\n",
       "    </tr>\n",
       "    <tr>\n",
       "      <th>3</th>\n",
       "      <td>Mrs</td>\n",
       "      <td>0.792000</td>\n",
       "    </tr>\n",
       "    <tr>\n",
       "      <th>4</th>\n",
       "      <td>Rare</td>\n",
       "      <td>0.375000</td>\n",
       "    </tr>\n",
       "  </tbody>\n",
       "</table>\n",
       "</div>"
      ],
      "text/plain": [
       "    Title  Survived\n",
       "0  Master  0.575000\n",
       "1    Miss  0.702703\n",
       "2      Mr  0.156673\n",
       "3     Mrs  0.792000\n",
       "4    Rare  0.375000"
      ]
     },
     "execution_count": 30,
     "metadata": {},
     "output_type": "execute_result"
    }
   ],
   "source": [
    "train_data[['Title', 'Survived']].groupby('Title', as_index=False).mean()"
   ]
  },
  {
   "cell_type": "code",
   "execution_count": 31,
   "id": "818c3c6d",
   "metadata": {
    "execution": {
     "iopub.execute_input": "2022-05-22T02:57:01.555632Z",
     "iopub.status.busy": "2022-05-22T02:57:01.555109Z",
     "iopub.status.idle": "2022-05-22T02:57:01.563820Z",
     "shell.execute_reply": "2022-05-22T02:57:01.563137Z"
    },
    "papermill": {
     "duration": 0.065244,
     "end_time": "2022-05-22T02:57:01.565755",
     "exception": false,
     "start_time": "2022-05-22T02:57:01.500511",
     "status": "completed"
    },
    "tags": []
   },
   "outputs": [],
   "source": [
    "title_mapping = {'Master': 1, 'Miss': 2, 'Mr': 3, 'Mrs': 4, 'Rare': 5}\n",
    "\n",
    "train_data['Title'] = train_data['Title'].map(title_mapping)\n",
    "train_data['Title'] = train_data['Title'].fillna(0)\n",
    "test_data['Title'] = test_data['Title'].map(title_mapping)\n",
    "test_data['Title'] = test_data['Title'].fillna(0)"
   ]
  },
  {
   "cell_type": "code",
   "execution_count": 32,
   "id": "1b36a811",
   "metadata": {
    "execution": {
     "iopub.execute_input": "2022-05-22T02:57:01.675069Z",
     "iopub.status.busy": "2022-05-22T02:57:01.674460Z",
     "iopub.status.idle": "2022-05-22T02:57:01.688771Z",
     "shell.execute_reply": "2022-05-22T02:57:01.688125Z"
    },
    "papermill": {
     "duration": 0.072301,
     "end_time": "2022-05-22T02:57:01.690783",
     "exception": false,
     "start_time": "2022-05-22T02:57:01.618482",
     "status": "completed"
    },
    "tags": []
   },
   "outputs": [
    {
     "data": {
      "text/html": [
       "<div>\n",
       "<style scoped>\n",
       "    .dataframe tbody tr th:only-of-type {\n",
       "        vertical-align: middle;\n",
       "    }\n",
       "\n",
       "    .dataframe tbody tr th {\n",
       "        vertical-align: top;\n",
       "    }\n",
       "\n",
       "    .dataframe thead th {\n",
       "        text-align: right;\n",
       "    }\n",
       "</style>\n",
       "<table border=\"1\" class=\"dataframe\">\n",
       "  <thead>\n",
       "    <tr style=\"text-align: right;\">\n",
       "      <th></th>\n",
       "      <th>Survived</th>\n",
       "      <th>Pclass</th>\n",
       "      <th>Sex</th>\n",
       "      <th>Age</th>\n",
       "      <th>Fare</th>\n",
       "      <th>Embarked</th>\n",
       "      <th>IsAlone</th>\n",
       "      <th>Title</th>\n",
       "    </tr>\n",
       "    <tr>\n",
       "      <th>PassengerId</th>\n",
       "      <th></th>\n",
       "      <th></th>\n",
       "      <th></th>\n",
       "      <th></th>\n",
       "      <th></th>\n",
       "      <th></th>\n",
       "      <th></th>\n",
       "      <th></th>\n",
       "    </tr>\n",
       "  </thead>\n",
       "  <tbody>\n",
       "    <tr>\n",
       "      <th>1</th>\n",
       "      <td>0</td>\n",
       "      <td>3</td>\n",
       "      <td>0</td>\n",
       "      <td>1</td>\n",
       "      <td>0</td>\n",
       "      <td>0</td>\n",
       "      <td>0</td>\n",
       "      <td>3</td>\n",
       "    </tr>\n",
       "    <tr>\n",
       "      <th>2</th>\n",
       "      <td>1</td>\n",
       "      <td>1</td>\n",
       "      <td>1</td>\n",
       "      <td>2</td>\n",
       "      <td>3</td>\n",
       "      <td>1</td>\n",
       "      <td>0</td>\n",
       "      <td>4</td>\n",
       "    </tr>\n",
       "    <tr>\n",
       "      <th>3</th>\n",
       "      <td>1</td>\n",
       "      <td>3</td>\n",
       "      <td>1</td>\n",
       "      <td>1</td>\n",
       "      <td>1</td>\n",
       "      <td>0</td>\n",
       "      <td>1</td>\n",
       "      <td>2</td>\n",
       "    </tr>\n",
       "    <tr>\n",
       "      <th>4</th>\n",
       "      <td>1</td>\n",
       "      <td>1</td>\n",
       "      <td>1</td>\n",
       "      <td>2</td>\n",
       "      <td>3</td>\n",
       "      <td>0</td>\n",
       "      <td>0</td>\n",
       "      <td>4</td>\n",
       "    </tr>\n",
       "    <tr>\n",
       "      <th>5</th>\n",
       "      <td>0</td>\n",
       "      <td>3</td>\n",
       "      <td>0</td>\n",
       "      <td>2</td>\n",
       "      <td>1</td>\n",
       "      <td>0</td>\n",
       "      <td>1</td>\n",
       "      <td>3</td>\n",
       "    </tr>\n",
       "    <tr>\n",
       "      <th>6</th>\n",
       "      <td>0</td>\n",
       "      <td>3</td>\n",
       "      <td>0</td>\n",
       "      <td>1</td>\n",
       "      <td>1</td>\n",
       "      <td>2</td>\n",
       "      <td>1</td>\n",
       "      <td>3</td>\n",
       "    </tr>\n",
       "    <tr>\n",
       "      <th>7</th>\n",
       "      <td>0</td>\n",
       "      <td>1</td>\n",
       "      <td>0</td>\n",
       "      <td>3</td>\n",
       "      <td>3</td>\n",
       "      <td>0</td>\n",
       "      <td>1</td>\n",
       "      <td>3</td>\n",
       "    </tr>\n",
       "    <tr>\n",
       "      <th>8</th>\n",
       "      <td>0</td>\n",
       "      <td>3</td>\n",
       "      <td>0</td>\n",
       "      <td>0</td>\n",
       "      <td>2</td>\n",
       "      <td>0</td>\n",
       "      <td>0</td>\n",
       "      <td>1</td>\n",
       "    </tr>\n",
       "    <tr>\n",
       "      <th>9</th>\n",
       "      <td>1</td>\n",
       "      <td>3</td>\n",
       "      <td>1</td>\n",
       "      <td>1</td>\n",
       "      <td>1</td>\n",
       "      <td>0</td>\n",
       "      <td>0</td>\n",
       "      <td>4</td>\n",
       "    </tr>\n",
       "    <tr>\n",
       "      <th>10</th>\n",
       "      <td>1</td>\n",
       "      <td>2</td>\n",
       "      <td>1</td>\n",
       "      <td>0</td>\n",
       "      <td>2</td>\n",
       "      <td>1</td>\n",
       "      <td>0</td>\n",
       "      <td>4</td>\n",
       "    </tr>\n",
       "  </tbody>\n",
       "</table>\n",
       "</div>"
      ],
      "text/plain": [
       "             Survived  Pclass  Sex  Age  Fare  Embarked  IsAlone  Title\n",
       "PassengerId                                                            \n",
       "1                   0       3    0    1     0         0        0      3\n",
       "2                   1       1    1    2     3         1        0      4\n",
       "3                   1       3    1    1     1         0        1      2\n",
       "4                   1       1    1    2     3         0        0      4\n",
       "5                   0       3    0    2     1         0        1      3\n",
       "6                   0       3    0    1     1         2        1      3\n",
       "7                   0       1    0    3     3         0        1      3\n",
       "8                   0       3    0    0     2         0        0      1\n",
       "9                   1       3    1    1     1         0        0      4\n",
       "10                  1       2    1    0     2         1        0      4"
      ]
     },
     "execution_count": 32,
     "metadata": {},
     "output_type": "execute_result"
    }
   ],
   "source": [
    "train_data.drop('Name', axis=1, inplace=True)\n",
    "test_data.drop('Name', axis=1, inplace=True)\n",
    "train_data.head(10)"
   ]
  },
  {
   "cell_type": "code",
   "execution_count": 33,
   "id": "f8edb492",
   "metadata": {
    "execution": {
     "iopub.execute_input": "2022-05-22T02:57:01.803099Z",
     "iopub.status.busy": "2022-05-22T02:57:01.802607Z",
     "iopub.status.idle": "2022-05-22T02:57:02.354325Z",
     "shell.execute_reply": "2022-05-22T02:57:02.353508Z"
    },
    "papermill": {
     "duration": 0.61215,
     "end_time": "2022-05-22T02:57:02.356785",
     "exception": false,
     "start_time": "2022-05-22T02:57:01.744635",
     "status": "completed"
    },
    "tags": []
   },
   "outputs": [],
   "source": [
    "from sklearn.linear_model import LogisticRegression\n",
    "from sklearn.svm import SVC, LinearSVC\n",
    "from sklearn.ensemble import RandomForestClassifier\n",
    "from sklearn.neighbors import KNeighborsClassifier\n",
    "from sklearn.linear_model import Perceptron\n",
    "from sklearn.linear_model import SGDClassifier\n",
    "from sklearn.tree import DecisionTreeClassifier\n",
    "import xgboost as xgb\n",
    "\n",
    "from sklearn.model_selection import GridSearchCV\n",
    "from sklearn.model_selection import cross_val_score"
   ]
  },
  {
   "cell_type": "code",
   "execution_count": 34,
   "id": "c7d9128a",
   "metadata": {
    "execution": {
     "iopub.execute_input": "2022-05-22T02:57:02.468374Z",
     "iopub.status.busy": "2022-05-22T02:57:02.467516Z",
     "iopub.status.idle": "2022-05-22T02:57:02.473405Z",
     "shell.execute_reply": "2022-05-22T02:57:02.472708Z"
    },
    "papermill": {
     "duration": 0.064337,
     "end_time": "2022-05-22T02:57:02.475544",
     "exception": false,
     "start_time": "2022-05-22T02:57:02.411207",
     "status": "completed"
    },
    "tags": []
   },
   "outputs": [],
   "source": [
    "models = {'LinearSVC': LinearSVC(),\n",
    "          'KNN': KNeighborsClassifier(),\n",
    "          'SVC': SVC(),\n",
    "          'LogisticRegression': LogisticRegression(),\n",
    "          'RandomForestClassifier': RandomForestClassifier(),\n",
    "          'DecisionTree': DecisionTreeClassifier(),\n",
    "          'Perceptron': Perceptron(),\n",
    "          'SGDClassifier': SGDClassifier(),\n",
    "          'XGBoost': xgb.XGBClassifier(use_label_encoder=False)}\n",
    "\n",
    "results = {}"
   ]
  },
  {
   "cell_type": "code",
   "execution_count": 35,
   "id": "5aa2957b",
   "metadata": {
    "execution": {
     "iopub.execute_input": "2022-05-22T02:57:02.584406Z",
     "iopub.status.busy": "2022-05-22T02:57:02.583831Z",
     "iopub.status.idle": "2022-05-22T02:57:02.590828Z",
     "shell.execute_reply": "2022-05-22T02:57:02.590177Z"
    },
    "papermill": {
     "duration": 0.063914,
     "end_time": "2022-05-22T02:57:02.592963",
     "exception": false,
     "start_time": "2022-05-22T02:57:02.529049",
     "status": "completed"
    },
    "tags": []
   },
   "outputs": [],
   "source": [
    "from sklearn.model_selection import train_test_split\n",
    "\n",
    "X = train_data.drop(\"Survived\", axis=1)\n",
    "y = train_data[\"Survived\"]\n",
    "\n",
    "X_train, X_val, y_train, y_val = train_test_split(X, y, test_size=0.2)"
   ]
  },
  {
   "cell_type": "code",
   "execution_count": 36,
   "id": "0568b83d",
   "metadata": {
    "_kg_hide-input": false,
    "execution": {
     "iopub.execute_input": "2022-05-22T02:57:02.704338Z",
     "iopub.status.busy": "2022-05-22T02:57:02.704023Z",
     "iopub.status.idle": "2022-05-22T02:57:03.360734Z",
     "shell.execute_reply": "2022-05-22T02:57:03.359824Z"
    },
    "papermill": {
     "duration": 0.716164,
     "end_time": "2022-05-22T02:57:03.363339",
     "exception": false,
     "start_time": "2022-05-22T02:57:02.647175",
     "status": "completed"
    },
    "tags": []
   },
   "outputs": [
    {
     "name": "stderr",
     "output_type": "stream",
     "text": [
      "/opt/conda/lib/python3.7/site-packages/sklearn/svm/_base.py:1208: ConvergenceWarning: Liblinear failed to converge, increase the number of iterations.\n",
      "  ConvergenceWarning,\n"
     ]
    },
    {
     "data": {
      "text/plain": [
       "{'LinearSVC': 0.8324022346368715,\n",
       " 'KNN': 0.8044692737430168,\n",
       " 'SVC': 0.8603351955307262,\n",
       " 'LogisticRegression': 0.8212290502793296,\n",
       " 'RandomForestClassifier': 0.8435754189944135,\n",
       " 'DecisionTree': 0.8379888268156425,\n",
       " 'Perceptron': 0.7821229050279329,\n",
       " 'SGDClassifier': 0.6871508379888268,\n",
       " 'XGBoost': 0.8491620111731844}"
      ]
     },
     "execution_count": 36,
     "metadata": {},
     "output_type": "execute_result"
    }
   ],
   "source": [
    "for name, model in models.items():\n",
    "    model.fit(X_train, y_train)\n",
    "    results[name] = model.score(X_val, y_val)\n",
    "\n",
    "results"
   ]
  },
  {
   "cell_type": "code",
   "execution_count": 37,
   "id": "5547251d",
   "metadata": {
    "execution": {
     "iopub.execute_input": "2022-05-22T02:57:03.477024Z",
     "iopub.status.busy": "2022-05-22T02:57:03.476111Z",
     "iopub.status.idle": "2022-05-22T02:57:22.161335Z",
     "shell.execute_reply": "2022-05-22T02:57:22.160454Z"
    },
    "papermill": {
     "duration": 18.74414,
     "end_time": "2022-05-22T02:57:22.163552",
     "exception": false,
     "start_time": "2022-05-22T02:57:03.419412",
     "status": "completed"
    },
    "tags": []
   },
   "outputs": [
    {
     "data": {
      "text/plain": [
       "({'C': 2.0, 'degree': 3, 'gamma': 'auto', 'kernel': 'rbf'}, 0.8034472569683837)"
      ]
     },
     "execution_count": 37,
     "metadata": {},
     "output_type": "execute_result"
    }
   ],
   "source": [
    "param_svc = {\n",
    "    'C': [0.5, 1.0, 2.0],\n",
    "    'kernel': ['rbf', 'poly', 'sigmoid'],\n",
    "    'degree': [3, 5, 8, 10],\n",
    "    'gamma': ['scale', 'auto']  \n",
    "}\n",
    "\n",
    "grid_svc = GridSearchCV(SVC(), \n",
    "                        param_svc,\n",
    "                        cv=5)\n",
    "grid_svc.fit(X_train, y_train)\n",
    "grid_svc.best_params_, grid_svc.best_score_"
   ]
  },
  {
   "cell_type": "code",
   "execution_count": 38,
   "id": "aeaa2a97",
   "metadata": {
    "execution": {
     "iopub.execute_input": "2022-05-22T02:57:22.283901Z",
     "iopub.status.busy": "2022-05-22T02:57:22.283453Z",
     "iopub.status.idle": "2022-05-22T02:57:22.296077Z",
     "shell.execute_reply": "2022-05-22T02:57:22.295023Z"
    },
    "papermill": {
     "duration": 0.076229,
     "end_time": "2022-05-22T02:57:22.298820",
     "exception": false,
     "start_time": "2022-05-22T02:57:22.222591",
     "status": "completed"
    },
    "tags": []
   },
   "outputs": [
    {
     "data": {
      "text/plain": [
       "0.8547486033519553"
      ]
     },
     "execution_count": 38,
     "metadata": {},
     "output_type": "execute_result"
    }
   ],
   "source": [
    "grid_svc.best_estimator_.score(X_val, y_val)"
   ]
  },
  {
   "cell_type": "code",
   "execution_count": 39,
   "id": "60f334bf",
   "metadata": {
    "execution": {
     "iopub.execute_input": "2022-05-22T02:57:22.416273Z",
     "iopub.status.busy": "2022-05-22T02:57:22.415207Z",
     "iopub.status.idle": "2022-05-22T02:57:22.940384Z",
     "shell.execute_reply": "2022-05-22T02:57:22.939021Z"
    },
    "papermill": {
     "duration": 0.585756,
     "end_time": "2022-05-22T02:57:22.942804",
     "exception": false,
     "start_time": "2022-05-22T02:57:22.357048",
     "status": "completed"
    },
    "tags": []
   },
   "outputs": [
    {
     "name": "stdout",
     "output_type": "stream",
     "text": [
      "Accuracy 0.8136965664427847\n",
      "Recall 0.6752770673486787\n",
      "Precision 0.8079108361915436\n",
      "F1 0.734304782673969\n"
     ]
    }
   ],
   "source": [
    "print(f\"Accuracy {np.mean(cross_val_score(grid_svc.best_estimator_, X, y, cv=5, scoring='accuracy'))}\")\n",
    "print(f\"Recall {np.mean(cross_val_score(grid_svc.best_estimator_, X, y, cv=5, scoring='recall'))}\")\n",
    "print(f\"Precision {np.mean(cross_val_score(grid_svc.best_estimator_, X, y, cv=5, scoring='precision'))}\")\n",
    "print(f\"F1 {np.mean(cross_val_score(grid_svc.best_estimator_, X, y, cv=5, scoring='f1'))}\")"
   ]
  },
  {
   "cell_type": "code",
   "execution_count": 40,
   "id": "d25afb66",
   "metadata": {
    "execution": {
     "iopub.execute_input": "2022-05-22T02:57:23.063176Z",
     "iopub.status.busy": "2022-05-22T02:57:23.062879Z",
     "iopub.status.idle": "2022-05-22T03:03:05.556351Z",
     "shell.execute_reply": "2022-05-22T03:03:05.555373Z"
    },
    "papermill": {
     "duration": 342.605085,
     "end_time": "2022-05-22T03:03:05.607390",
     "exception": false,
     "start_time": "2022-05-22T02:57:23.002305",
     "status": "completed"
    },
    "tags": []
   },
   "outputs": [
    {
     "data": {
      "text/plain": [
       "({'gamma': 0,\n",
       "  'learning_rate': 0.3,\n",
       "  'max_depth': 9,\n",
       "  'reg_alpha': 1,\n",
       "  'reg_lambda': 1},\n",
       " 0.8132867132867133)"
      ]
     },
     "execution_count": 40,
     "metadata": {},
     "output_type": "execute_result"
    }
   ],
   "source": [
    "param_xgb = {\n",
    "    \"max_depth\": [3, 5, 9],\n",
    "    \"learning_rate\": [0.1, 0.3, 1],\n",
    "    \"gamma\": [0, 1, 3],\n",
    "    \"reg_alpha\": [0, 1, 5],\n",
    "    \"reg_lambda\": [0, 1, 5],\n",
    "}\n",
    "\n",
    "grid_xgb = GridSearchCV(xgb.XGBClassifier(use_label_encoder=False), \n",
    "                        param_xgb,\n",
    "                        cv=5)\n",
    "\n",
    "grid_xgb.fit(X_train, y_train)\n",
    "grid_xgb.best_params_, grid_xgb.best_score_"
   ]
  },
  {
   "cell_type": "code",
   "execution_count": 41,
   "id": "f929fb80",
   "metadata": {
    "execution": {
     "iopub.execute_input": "2022-05-22T03:03:05.721071Z",
     "iopub.status.busy": "2022-05-22T03:03:05.720787Z",
     "iopub.status.idle": "2022-05-22T03:03:05.742023Z",
     "shell.execute_reply": "2022-05-22T03:03:05.734617Z"
    },
    "papermill": {
     "duration": 0.083017,
     "end_time": "2022-05-22T03:03:05.746073",
     "exception": false,
     "start_time": "2022-05-22T03:03:05.663056",
     "status": "completed"
    },
    "tags": []
   },
   "outputs": [
    {
     "data": {
      "text/plain": [
       "0.8659217877094972"
      ]
     },
     "execution_count": 41,
     "metadata": {},
     "output_type": "execute_result"
    }
   ],
   "source": [
    "grid_xgb.best_estimator_.score(X_val, y_val)"
   ]
  },
  {
   "cell_type": "code",
   "execution_count": 42,
   "id": "ffa4cd6e",
   "metadata": {
    "execution": {
     "iopub.execute_input": "2022-05-22T03:03:05.859723Z",
     "iopub.status.busy": "2022-05-22T03:03:05.859421Z",
     "iopub.status.idle": "2022-05-22T03:03:11.450097Z",
     "shell.execute_reply": "2022-05-22T03:03:11.449419Z"
    },
    "papermill": {
     "duration": 5.650662,
     "end_time": "2022-05-22T03:03:11.452808",
     "exception": false,
     "start_time": "2022-05-22T03:03:05.802146",
     "status": "completed"
    },
    "tags": []
   },
   "outputs": [
    {
     "name": "stdout",
     "output_type": "stream",
     "text": [
      "Accuracy 0.8226978846274559\n",
      "Recall 0.7044757033248082\n",
      "Precision 0.8122069425705565\n",
      "F1 0.75258129863503\n"
     ]
    }
   ],
   "source": [
    "print(f\"Accuracy {np.mean(cross_val_score(grid_xgb.best_estimator_, X, y, cv=5, scoring='accuracy'))}\")\n",
    "print(f\"Recall {np.mean(cross_val_score(grid_xgb.best_estimator_, X, y, cv=5, scoring='recall'))}\")\n",
    "print(f\"Precision {np.mean(cross_val_score(grid_xgb.best_estimator_, X, y, cv=5, scoring='precision'))}\")\n",
    "print(f\"F1 {np.mean(cross_val_score(grid_xgb.best_estimator_, X, y, cv=5, scoring='f1'))}\")"
   ]
  },
  {
   "cell_type": "code",
   "execution_count": 43,
   "id": "c1897a34",
   "metadata": {
    "execution": {
     "iopub.execute_input": "2022-05-22T03:03:11.572893Z",
     "iopub.status.busy": "2022-05-22T03:03:11.572611Z",
     "iopub.status.idle": "2022-05-22T03:03:11.587428Z",
     "shell.execute_reply": "2022-05-22T03:03:11.586354Z"
    },
    "papermill": {
     "duration": 0.076876,
     "end_time": "2022-05-22T03:03:11.589893",
     "exception": false,
     "start_time": "2022-05-22T03:03:11.513017",
     "status": "completed"
    },
    "tags": []
   },
   "outputs": [],
   "source": [
    "pred = grid_svc.best_estimator_.predict(test_data)"
   ]
  }
 ],
 "metadata": {
  "kernelspec": {
   "display_name": "Python 3",
   "language": "python",
   "name": "python3"
  },
  "language_info": {
   "codemirror_mode": {
    "name": "ipython",
    "version": 3
   },
   "file_extension": ".py",
   "mimetype": "text/x-python",
   "name": "python",
   "nbconvert_exporter": "python",
   "pygments_lexer": "ipython3",
   "version": "3.7.12"
  },
  "papermill": {
   "default_parameters": {},
   "duration": 386.686476,
   "end_time": "2022-05-22T03:03:12.473588",
   "environment_variables": {},
   "exception": null,
   "input_path": "__notebook__.ipynb",
   "output_path": "__notebook__.ipynb",
   "parameters": {},
   "start_time": "2022-05-22T02:56:45.787112",
   "version": "2.3.4"
  }
 },
 "nbformat": 4,
 "nbformat_minor": 5
}
